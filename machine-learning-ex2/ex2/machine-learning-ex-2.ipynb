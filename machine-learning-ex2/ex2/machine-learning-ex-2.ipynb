{
 "cells": [
  {
   "cell_type": "code",
   "execution_count": 1,
   "metadata": {
    "collapsed": false
   },
   "outputs": [],
   "source": [
    "# imports\n",
    "%matplotlib inline\n",
    "import numpy as np\n",
    "import matplotlib.pyplot as plt\n",
    "import pandas as pd\n",
    "from scipy import optimize, special"
   ]
  },
  {
   "cell_type": "code",
   "execution_count": 2,
   "metadata": {
    "collapsed": false
   },
   "outputs": [],
   "source": [
    "data = np.genfromtxt(\"ex2data1.txt\", delimiter=\",\")"
   ]
  },
  {
   "cell_type": "code",
   "execution_count": 3,
   "metadata": {
    "collapsed": false
   },
   "outputs": [
    {
     "data": {
      "text/plain": [
       "(100, 1)"
      ]
     },
     "execution_count": 3,
     "metadata": {},
     "output_type": "execute_result"
    }
   ],
   "source": [
    "X = data[:,:2]\n",
    "y = data[:,2]\n",
    "y = y[:,np.newaxis]\n",
    "m = len(X)\n",
    "theta = np.zeros((X.shape[1]+1,1))\n",
    "X = np.concatenate((np.ones((m,1)),X),axis=1)\n",
    "y.shape"
   ]
  },
  {
   "cell_type": "code",
   "execution_count": 4,
   "metadata": {
    "collapsed": false
   },
   "outputs": [
    {
     "data": {
      "text/plain": [
       "array([[ 0.,  0.,  0.]])"
      ]
     },
     "execution_count": 4,
     "metadata": {},
     "output_type": "execute_result"
    }
   ],
   "source": [
    "theta.transpose()"
   ]
  },
  {
   "cell_type": "code",
   "execution_count": 5,
   "metadata": {
    "collapsed": false
   },
   "outputs": [],
   "source": [
    "colormap=np.array(['r','b'])\n",
    "custom_color = colormap[y.astype(int)].flatten()\n",
    "markermap = np.array(['o','x'])\n",
    "custom_markers = markermap[y.astype(int)].flatten()"
   ]
  },
  {
   "cell_type": "code",
   "execution_count": 6,
   "metadata": {
    "collapsed": false,
    "scrolled": true
   },
   "outputs": [
    {
     "data": {
      "image/png": "[encoded data removed]",
      "text/plain": [
       "<matplotlib.figure.Figure at 0x7f7b1cf9df60>"
      ]
     },
     "metadata": {},
     "output_type": "display_data"
    }
   ],
   "source": [
    "plt.ylabel('exam 2 score')\n",
    "plt.xlabel('exam 1 score')\n",
    "for i in range(len(X[:,0])):\n",
    "    plt.scatter(X[:,1][i],X[:,2][i],color=custom_color[i], marker=custom_markers[i])\n"
   ]
  },
  {
   "cell_type": "code",
   "execution_count": 7,
   "metadata": {
    "collapsed": false
   },
   "outputs": [],
   "source": [
    "def predict(X,theta):\n",
    "    return special.expit(np.dot(X,theta))\n"
   ]
  },
  {
   "cell_type": "code",
   "execution_count": 8,
   "metadata": {
    "collapsed": false
   },
   "outputs": [],
   "source": [
    "def cost(theta):\n",
    "    if len(theta.shape) == 1:\n",
    "        theta = theta[:,np.newaxis]\n",
    "    prediction = predict(X,theta)\n",
    "    return 1/m*np.sum(np.dot((-y.T),np.log(prediction))-np.dot((1-y).T,np.log(1-prediction)))"
   ]
  },
  {
   "cell_type": "code",
   "execution_count": 85,
   "metadata": {
    "collapsed": true
   },
   "outputs": [],
   "source": [
    "def regularized_cost(theta,gamma=0.1):\n",
    "    if len(theta.shape) == 1:\n",
    "        theta = theta[:,np.newaxis]\n",
    "    prediction = predict(X,theta)\n",
    "    regularizer = np.sum(np.delete(theta,0,0))\n",
    "    return 1/m*np.sum(np.dot((-y.T),np.log(prediction))-np.dot((1-y).T,np.log(1-prediction)))+(gamma/(2*m))*regularizer"
   ]
  },
  {
   "cell_type": "code",
   "execution_count": 86,
   "metadata": {
    "collapsed": true
   },
   "outputs": [],
   "source": [
    "def gradient(theta):\n",
    "    if len(theta.shape) == 1:\n",
    "        theta = theta[:,np.newaxis]\n",
    "    return 1/m * ((np.dot(X.T,(predict(X,theta)-y))))#-np.dot(X.T,y)).T)"
   ]
  },
  {
   "cell_type": "code",
   "execution_count": 87,
   "metadata": {
    "collapsed": false
   },
   "outputs": [],
   "source": [
    "def regularized_gradient(theta,gamma=0.1):\n",
    "    if len(theta.shape) == 1:\n",
    "        theta = theta[:,np.newaxis]\n",
    "    regularizer = (gamma/m) * (np.insert(np.delete(theta,0,0),0,0,0))\n",
    "    #print(regularizer.shape)\n",
    "    grad = (1/m * ((np.dot(X.T,(predict(X,theta)-y))))) + regularizer\n",
    "    return grad.flatten()\n"
   ]
  },
  {
   "cell_type": "code",
   "execution_count": 88,
   "metadata": {
    "collapsed": false
   },
   "outputs": [],
   "source": [
    "def minimize(theta):\n",
    "    #return optimize.fmin(regularized_cost,theta)\n",
    "    return optimize.fmin_tnc(regularized_cost,theta,fprime=regularized_gradient)"
   ]
  },
  {
   "cell_type": "code",
   "execution_count": 89,
   "metadata": {
    "collapsed": false
   },
   "outputs": [
    {
     "data": {
      "text/plain": [
       "0.20370162673074932"
      ]
     },
     "execution_count": 89,
     "metadata": {},
     "output_type": "execute_result"
    }
   ],
   "source": [
    "a = minimize(theta)\n",
    "regularized_cost(a[0])"
   ]
  },
  {
   "cell_type": "code",
   "execution_count": 99,
   "metadata": {
    "collapsed": false
   },
   "outputs": [
    {
     "data": {
      "text/plain": [
       "0.69314718055994529"
      ]
     },
     "execution_count": 99,
     "metadata": {},
     "output_type": "execute_result"
    }
   ],
   "source": [
    "regularized_cost(theta)"
   ]
  }
 ],
 "metadata": {
  "kernelspec": {
   "display_name": "Python 3",
   "language": "python",
   "name": "python3"
  },
  "language_info": {
   "codemirror_mode": {
    "name": "ipython",
    "version": 3
   },
   "file_extension": ".py",
   "mimetype": "text/x-python",
   "name": "python",
   "nbconvert_exporter": "python",
   "pygments_lexer": "ipython3",
   "version": "3.5.1"
  }
 },
 "nbformat": 4,
 "nbformat_minor": 0
}
