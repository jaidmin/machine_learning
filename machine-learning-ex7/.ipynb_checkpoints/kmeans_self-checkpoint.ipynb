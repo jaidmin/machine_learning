{
 "cells": [
  {
   "cell_type": "code",
   "execution_count": 47,
   "metadata": {
    "collapsed": true
   },
   "outputs": [],
   "source": [
    "import numpy as np\n",
    "import scipy as sc\n",
    "import matplotlib.pyplot as plt\n",
    "%matplotlib inline\n",
    "import scipy.io\n",
    "import random\n",
    "from matplotlib.colors import ListedColormap\n",
    "import time"
   ]
  },
  {
   "cell_type": "code",
   "execution_count": 4,
   "metadata": {
    "collapsed": false
   },
   "outputs": [],
   "source": [
    "vars = {}\n",
    "a = scipy.io.loadmat(\"./ex7/ex7data2.mat\",vars)\n",
    "X = vars['X']\n"
   ]
  },
  {
   "cell_type": "code",
   "execution_count": 5,
   "metadata": {
    "collapsed": false
   },
   "outputs": [
    {
     "data": {
      "text/plain": [
       "(300, 2)"
      ]
     },
     "execution_count": 5,
     "metadata": {},
     "output_type": "execute_result"
    }
   ],
   "source": [
    "X.shape\n"
   ]
  },
  {
   "cell_type": "code",
   "execution_count": 6,
   "metadata": {
    "collapsed": false
   },
   "outputs": [
    {
     "data": {
      "text/plain": [
       "<matplotlib.collections.PathCollection at 0x7fd7fc8fea90>"
      ]
     },
     "execution_count": 6,
     "metadata": {},
     "output_type": "execute_result"
    },
    {
     "data": {
      "image/png": "[encoded data removed]",
      "text/plain": [
       "<matplotlib.figure.Figure at 0x7fd8286a32b0>"
      ]
     },
     "metadata": {},
     "output_type": "display_data"
    }
   ],
   "source": [
    "plt.scatter(X[:,0],X[:,1])"
   ]
  },
  {
   "cell_type": "code",
   "execution_count": 71,
   "metadata": {
    "collapsed": false
   },
   "outputs": [],
   "source": [
    "def k_means(dataset_input,clusters,iterations):\n",
    "    plt.figure(figsize=(15,15))\n",
    "    dataset = dataset_input.copy()\n",
    "    clustar = random_initialize(dataset,clusters)\n",
    "    colours = ('red','blue','cyan','gray','lightgreen','aqua','bisque','darkmagenta','gold','lightcoral')\n",
    "    cmap = ListedColormap(colours[:clusters])\n",
    "    for i in range(iterations):\n",
    "        belonging = assign(dataset,clustar)\n",
    "        clustar = new_centroids(dataset,belonging) \n",
    "    for position,ele in enumerate(dataset):\n",
    "        plt.scatter(x=ele[0],y=ele[1],c=cmap(belonging[position]))\n",
    "    plt.scatter(x=clustar[:,0],y=clustar[:,1], marker='x')\n",
    "        \n",
    "    \n",
    "\n",
    "def random_initialize(dataset,clusters):\n",
    "    random.seed()\n",
    "    random_points=[]\n",
    "    for i in range(clusters):\n",
    "        curr_point = []\n",
    "        for j in range(dataset.shape[1]):\n",
    "            curr_point.append(random.uniform(dataset[:,j].min(),dataset[:,j].max()))\n",
    "        random_points.append(curr_point)\n",
    "    return np.array(random_points)\n"
   ]
  },
  {
   "cell_type": "code",
   "execution_count": null,
   "metadata": {
    "collapsed": false
   },
   "outputs": [],
   "source": [
    "k_means(X,100,100)"
   ]
  },
  {
   "cell_type": "code",
   "execution_count": 51,
   "metadata": {
    "collapsed": false
   },
   "outputs": [],
   "source": [
    "def distances(example,clusters):\n",
    "    dists = []\n",
    "    return [euclid(example,one_cluster_centre) for one_cluster_centre in clusters]\n",
    "    \n",
    "\n",
    "def assign(dataset,clusters):\n",
    "    assigned_clusters = []\n",
    "    for example in dataset:\n",
    "        curr_example_dists = distances(example,clusters)\n",
    "        assigned_clusters.append(np.argmin(curr_example_dists))\n",
    "    return assigned_clusters\n",
    "        \n",
    "\n",
    "def euclid(example,cluster):\n",
    "    return np.sqrt(((cluster[0]-example[0])**2) + ((cluster[1]-example[1])**2))\n",
    "\n",
    "def new_centroids(dataset,assigned_clusters):\n",
    "    new_centroids = []\n",
    "    for element in np.unique(assigned_clusters):\n",
    "        belonging_examples = np.array([item for item in dataset if assigned_clusters[np.where(dataset==item)[0][0]] == element])\n",
    "        mean_of_examples = np.mean(belonging_examples,axis=0)\n",
    "        new_centroids.append(mean_of_examples)\n",
    "    return np.array(new_centroids)\n",
    "        "
   ]
  },
  {
   "cell_type": "code",
   "execution_count": 45,
   "metadata": {
    "collapsed": false
   },
   "outputs": [
    {
     "data": {
      "text/plain": [
       "(4, 2)"
      ]
     },
     "execution_count": 45,
     "metadata": {},
     "output_type": "execute_result"
    }
   ],
   "source": [
    "cl_tst= random_initialize(X,4)\n",
    "cl_as = assign(X,cl_tst)\n",
    "new_centroids(X,cl_as).shape"
   ]
  },
  {
   "cell_type": "code",
   "execution_count": 13,
   "metadata": {
    "collapsed": true
   },
   "outputs": [],
   "source": [
    "colours = ('red','blue','cyan','gray')#,'lightgreen','aqua','bisque','darkmagenta','gold','lightcoral')\n",
    "cmap = ListedColormap(colours)"
   ]
  },
  {
   "cell_type": "code",
   "execution_count": 14,
   "metadata": {
    "collapsed": false
   },
   "outputs": [],
   "source": [
    "clusters_test = random_initialize(X,4)\n",
    "test_assign = assign(X,clusters_test)"
   ]
  },
  {
   "cell_type": "code",
   "execution_count": 49,
   "metadata": {
    "collapsed": false
   },
   "outputs": [
    {
     "data": {
      "text/plain": [
       "<matplotlib.collections.PathCollection at 0x7fd7fbaa5e10>"
      ]
     },
     "execution_count": 49,
     "metadata": {},
     "output_type": "execute_result"
    },
    {
     "data": {
      "image/png": "[encoded data removed]",
      "text/plain": [
       "<matplotlib.figure.Figure at 0x7fd7fbbe1f98>"
      ]
     },
     "metadata": {},
     "output_type": "display_data"
    }
   ],
   "source": [
    "plt.figure(figsize=(15,15))\n",
    "for position,ele in enumerate(X):\n",
    "    plt.scatter(x=ele[0],y=ele[1],c=cmap(test_assign[position]))\n",
    "plt.scatter(x=clusters_test[:,0],y=clusters_test[:,1], marker='x')\n",
    "    "
   ]
  },
  {
   "cell_type": "code",
   "execution_count": 16,
   "metadata": {
    "collapsed": false
   },
   "outputs": [
    {
     "data": {
      "text/plain": [
       "(2, 2)"
      ]
     },
     "execution_count": 16,
     "metadata": {},
     "output_type": "execute_result"
    }
   ],
   "source": [
    "np.concatenate((np.array((1,2),ndmin=2),np.array((99,2),ndmin=2)),axis=0).shape"
   ]
  },
  {
   "cell_type": "code",
   "execution_count": 25,
   "metadata": {
    "collapsed": false
   },
   "outputs": [
    {
     "data": {
      "text/plain": [
       "array([1, 2, 3, 4])"
      ]
     },
     "execution_count": 25,
     "metadata": {},
     "output_type": "execute_result"
    }
   ],
   "source": [
    "np.unique([4,1,2,1,3])"
   ]
  },
  {
   "cell_type": "code",
   "execution_count": 23,
   "metadata": {
    "collapsed": false
   },
   "outputs": [
    {
     "data": {
      "text/plain": [
       "1.5"
      ]
     },
     "execution_count": 23,
     "metadata": {},
     "output_type": "execute_result"
    }
   ],
   "source": [
    "qq = [[1,2],[1,2],[1,2]]\n",
    "hallo = np.array(qq)\n",
    "np.mean(hallo,)"
   ]
  },
  {
   "cell_type": "code",
   "execution_count": 39,
   "metadata": {
    "collapsed": false
   },
   "outputs": [
    {
     "data": {
      "text/plain": [
       "array([1, 1])"
      ]
     },
     "execution_count": 39,
     "metadata": {},
     "output_type": "execute_result"
    }
   ],
   "source": [
    "krk = np.array([[1,2],[2,3]])\n",
    "np.where(krk == [2,3])[0]"
   ]
  },
  {
   "cell_type": "code",
   "execution_count": 36,
   "metadata": {
    "collapsed": false
   },
   "outputs": [
    {
     "data": {
      "text/plain": [
       "(array([1, 3, 5]),)"
      ]
     },
     "execution_count": 36,
     "metadata": {},
     "output_type": "execute_result"
    }
   ],
   "source": [
    "x = np.array([1,0,2,0,3,0,4,5,6,7,8])\n",
    "np.where(x == 0)"
   ]
  },
  {
   "cell_type": "code",
   "execution_count": null,
   "metadata": {
    "collapsed": true
   },
   "outputs": [],
   "source": []
  }
 ],
 "metadata": {
  "anaconda-cloud": {},
  "kernelspec": {
   "display_name": "Python [Root]",
   "language": "python",
   "name": "Python [Root]"
  },
  "language_info": {
   "codemirror_mode": {
    "name": "ipython",
    "version": 3
   },
   "file_extension": ".py",
   "mimetype": "text/x-python",
   "name": "python",
   "nbconvert_exporter": "python",
   "pygments_lexer": "ipython3",
   "version": "3.5.2"
  }
 },
 "nbformat": 4,
 "nbformat_minor": 0
}
