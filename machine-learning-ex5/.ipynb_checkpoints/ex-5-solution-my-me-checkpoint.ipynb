{
 "cells": [
  {
   "cell_type": "code",
   "execution_count": 3,
   "metadata": {
    "collapsed": true
   },
   "outputs": [],
   "source": [
    "import numpy as np\n",
    "import scipy.io\n",
    "#from scipy import io\n",
    "import matplotlib.pyplot as plt\n",
    "%matplotlib inline\n",
    "import random\n",
    "import math\n",
    "import io\n",
    "import pandas as pd\n",
    "from scipy import optimize, special\n"
   ]
  },
  {
   "cell_type": "code",
   "execution_count": 90,
   "metadata": {
    "collapsed": false
   },
   "outputs": [],
   "source": [
    "vars = {}\n",
    "a = scipy.io.loadmat(\"./ex5/ex5data1.mat\",vars)\n",
    "X_train = a['X']\n",
    "X_test = a['Xtest']\n",
    "X_val = a['Xval']\n",
    "X_val_plot = X_val\n",
    "y_val = a['yval']\n",
    "Theta = np.ones((2,1))\n",
    "Theta_poly = np.ones((9,1))\n",
    "X_val = np.concatenate((np.ones((len(y_val),1)),X_val),axis=1)\n",
    "y_train = a['y']\n",
    "X_train_plot= X_train\n",
    "y_test = a['ytest']\n",
    "X_train = np.concatenate((np.ones((len(y_train),1)),X_train),axis=1)"
   ]
  },
  {
   "cell_type": "code",
   "execution_count": 21,
   "metadata": {
    "collapsed": false
   },
   "outputs": [
    {
     "data": {
      "text/plain": [
       "[<matplotlib.lines.Line2D at 0x7f079588b4e0>]"
      ]
     },
     "execution_count": 21,
     "metadata": {},
     "output_type": "execute_result"
    },
    {
     "data": {
      "image/png": "[encoded data removed]",
      "text/plain": [
       "<matplotlib.figure.Figure at 0x7f079588b208>"
      ]
     },
     "metadata": {},
     "output_type": "display_data"
    }
   ],
   "source": [
    "plt.scatter(X_train_plot,y_train)\n",
    "plt.plot(real_plot_X,plot_Y)"
   ]
  },
  {
   "cell_type": "code",
   "execution_count": 160,
   "metadata": {
    "collapsed": false
   },
   "outputs": [],
   "source": [
    "def cost(theta,dataset,labels,regularizer=1000000000000000000000):\n",
    "    if(len(theta.shape)==1):\n",
    "        theta = theta[:,np.newaxis]\n",
    "    m=len(labels)\n",
    "    dummy_theta = np.copy(theta)\n",
    "    np.put(dummy_theta,0,0)\n",
    "    prediction = predict(dataset,theta)\n",
    "    cost = 1 / (2*m) * np.sum((predict(dataset,theta)-labels)**2) + regularizer/(2*m)*np.sum(theta[1:]**2)\n",
    "    return cost\n",
    "def gradient(theta,dataset,labels,regularizer=1000000000000000000000):\n",
    "    if(len(theta.shape)==1):\n",
    "        theta = theta[:,np.newaxis]\n",
    "    m=len(labels)\n",
    "    dummy_theta = np.copy(theta)\n",
    "    np.put(dummy_theta,0,0)\n",
    "    prediction = predict(dataset,theta)\n",
    "    grad = (1/m * np.dot((prediction-labels).T,dataset)) + regularizer/m * dummy_theta.T\n",
    "    return grad.T.flatten()\n",
    "def predict(dataset,theta):\n",
    "    return np.dot(dataset,theta)"
   ]
  },
  {
   "cell_type": "code",
   "execution_count": 99,
   "metadata": {
    "collapsed": false
   },
   "outputs": [],
   "source": [
    "def minimize(theta,dataset,labels):\n",
    "    return scipy.optimize.minimize(cost,theta,method='CG',jac=gradient, args=(dataset,labels),tol=0.00005)"
   ]
  },
  {
   "cell_type": "code",
   "execution_count": 14,
   "metadata": {
    "collapsed": false
   },
   "outputs": [],
   "source": [
    "results= minimize(Theta,X_train,y_train)\n",
    "new_global_theta = results['x']\n",
    "new_global_theta = new_global_theta[:,np.newaxis]"
   ]
  },
  {
   "cell_type": "code",
   "execution_count": 15,
   "metadata": {
    "collapsed": false
   },
   "outputs": [
    {
     "data": {
      "text/plain": [
       "303.95152555359761"
      ]
     },
     "execution_count": 15,
     "metadata": {},
     "output_type": "execute_result"
    }
   ],
   "source": [
    "\n",
    "cost(Theta,X_train,y_train)\n"
   ]
  },
  {
   "cell_type": "code",
   "execution_count": 16,
   "metadata": {
    "collapsed": false
   },
   "outputs": [],
   "source": [
    "plot_X = np.arange(-50,50,0.1)\n",
    "plot_X = plot_X[:,np.newaxis]\n",
    "plot_X = np.concatenate((np.ones((1000,1)),plot_X),axis=1)\n",
    "plot_Y = predict(plot_X,new_global_theta)\n",
    "real_plot_X = np.arange(-50,50,0.1)"
   ]
  },
  {
   "cell_type": "code",
   "execution_count": 166,
   "metadata": {
    "collapsed": true
   },
   "outputs": [],
   "source": [
    "def plot_function_and_scatter(dataset,labels,features_nr,left,right):\n",
    "    plot_X = np.arange(left,right,0.1)\n",
    "    plot_X = plot_X[:,np.newaxis]\n",
    "    plot_X = np.concatenate((np.ones(((np.abs(left)+np.abs(right))*10,1)),plot_X),axis=1)\n",
    "    plot_X = poly_features(plot_X,features_nr-1)\n",
    "    initial_theta = np.ones((features_nr,1))\n",
    "    theta = minimize(initial_theta,poly_features(dataset,features_nr-1),labels)['x']\n",
    "    plot_Y = predict(plot_X,theta)\n",
    "    real_plot_X = np.arange(left,right,0.1)\n",
    "    plt.scatter(dataset.T[1],labels)\n",
    "    plt.plot(real_plot_X,plot_Y)\n",
    "    "
   ]
  },
  {
   "cell_type": "code",
   "execution_count": 165,
   "metadata": {
    "collapsed": false
   },
   "outputs": [
    {
     "name": "stdout",
     "output_type": "stream",
     "text": [
      "(2000, 30)\n"
     ]
    },
    {
     "data": {
      "image/png": "[encoded data removed]",
      "text/plain": [
       "<matplotlib.figure.Figure at 0x7f07958992e8>"
      ]
     },
     "metadata": {},
     "output_type": "display_data"
    }
   ],
   "source": [
    "plot_function_and_scatter(X_train,y_train,30,-100,100)"
   ]
  },
  {
   "cell_type": "code",
   "execution_count": 110,
   "metadata": {
    "collapsed": false
   },
   "outputs": [],
   "source": [
    "def learning_curves(train_data,train_labels,val_data,val_labels,regularizer,features_nr):\n",
    "    X_axis = np.arange(1,len(train_labels))\n",
    "    X_axis = X_axis[:,np.newaxis]\n",
    "    training_error = []\n",
    "    validation_error = []\n",
    "    initial_theta = np.ones((features_nr,1))\n",
    "    for i in range(1,len(train_labels)):\n",
    "        curr_theta = minimize(initial_theta,train_data[:i],train_labels[:i])['x']\n",
    "        curr_theta = curr_theta[:,np.newaxis]\n",
    "        training_error.append(cost(curr_theta,train_data[:i],train_labels[:i]))\n",
    "        validation_error.append(cost(curr_theta,val_data,val_labels))\n",
    "    plt.plot(X_axis,training_error)\n",
    "    plt.plot(X_axis,validation_error)\n",
    "        "
   ]
  },
  {
   "cell_type": "code",
   "execution_count": 103,
   "metadata": {
    "collapsed": false
   },
   "outputs": [
    {
     "data": {
      "image/png": "[encoded data removed]",
      "text/plain": [
       "<matplotlib.figure.Figure at 0x7f0795844208>"
      ]
     },
     "metadata": {},
     "output_type": "display_data"
    }
   ],
   "source": [
    "learning_curves(X_train,y_train,X_val,y_val,0,2)"
   ]
  },
  {
   "cell_type": "code",
   "execution_count": 49,
   "metadata": {
    "collapsed": false
   },
   "outputs": [],
   "source": [
    "def poly_features(input_data,polynomials):\n",
    "    dataset = np.copy(input_data)\n",
    "    if(len(dataset.shape) == 1):\n",
    "        dataset = np.concatenate((np.ones((len(dataset),1)),dataset),axis=1)\n",
    "    feature_column = dataset.T[1]\n",
    "    feature_column = feature_column[:,np.newaxis]\n",
    "    if(polynomials==1):\n",
    "        return dataset\n",
    "    for i in range(1,polynomials):\n",
    "        dataset = np.append(dataset,np.power(feature_column,i+1),axis=1)\n",
    "    return dataset\n",
    "        \n",
    "        "
   ]
  },
  {
   "cell_type": "code",
   "execution_count": 80,
   "metadata": {
    "collapsed": true
   },
   "outputs": [],
   "source": [
    "def feature_normalize(dataset):\n",
    "    mu = np.mean(dataset,axis=0)\n",
    "    np.put(mu,0,0)\n",
    "    dataset_norm = dataset - mu\n",
    "    sigma = np.std(dataset_norm,axis=0)\n",
    "    np.put(sigma,0,1)\n",
    "    result = dataset_norm / sigma\n",
    "    return result\n",
    "\n"
   ]
  },
  {
   "cell_type": "code",
   "execution_count": 104,
   "metadata": {
    "collapsed": false
   },
   "outputs": [],
   "source": [
    "X_train_polynomials = feature_normalize(poly_features(X_train,8))\n",
    "X_val_polynomials = feature_normalize(poly_features(X_val,8))"
   ]
  },
  {
   "cell_type": "code",
   "execution_count": 111,
   "metadata": {
    "collapsed": false
   },
   "outputs": [
    {
     "data": {
      "image/png": "[encoded data removed]",
      "text/plain": [
       "<matplotlib.figure.Figure at 0x7f079583c9b0>"
      ]
     },
     "metadata": {},
     "output_type": "display_data"
    }
   ],
   "source": [
    "learning_curves(X_train_polynomials,y_train,X_val_polynomials,y_val,0,9)"
   ]
  },
  {
   "cell_type": "code",
   "execution_count": 87,
   "metadata": {
    "collapsed": false
   },
   "outputs": [
    {
     "data": {
      "text/plain": [
       "(9,)"
      ]
     },
     "execution_count": 87,
     "metadata": {},
     "output_type": "execute_result"
    }
   ],
   "source": [
    "X_train_polynomials.shape"
   ]
  },
  {
   "cell_type": "code",
   "execution_count": null,
   "metadata": {
    "collapsed": true
   },
   "outputs": [],
   "source": []
  }
 ],
 "metadata": {
  "anaconda-cloud": {},
  "kernelspec": {
   "display_name": "Python [Root]",
   "language": "python",
   "name": "Python [Root]"
  },
  "language_info": {
   "codemirror_mode": {
    "name": "ipython",
    "version": 3
   },
   "file_extension": ".py",
   "mimetype": "text/x-python",
   "name": "python",
   "nbconvert_exporter": "python",
   "pygments_lexer": "ipython3",
   "version": "3.5.2"
  }
 },
 "nbformat": 4,
 "nbformat_minor": 0
}
