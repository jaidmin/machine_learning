{
 "cells": [
  {
   "cell_type": "code",
   "execution_count": 1,
   "metadata": {
    "collapsed": true
   },
   "outputs": [],
   "source": [
    "import numpy as np\n",
    "import scipy.io\n",
    "#from scipy import io\n",
    "import matplotlib.pyplot as plt\n",
    "%matplotlib inline\n",
    "import random\n",
    "import math\n",
    "import io\n",
    "import scipy.optimize, scipy.special\n",
    "import sklearn.preprocessing\n",
    "import sklearn.linear_model \n",
    "import pandas as pd\n",
    "import time"
   ]
  },
  {
   "cell_type": "code",
   "execution_count": 2,
   "metadata": {
    "collapsed": true
   },
   "outputs": [],
   "source": [
    "vars = {}\n",
    "a = scipy.io.loadmat(\"ex3weights.mat\",vars)"
   ]
  },
  {
   "cell_type": "code",
   "execution_count": 3,
   "metadata": {
    "collapsed": true
   },
   "outputs": [],
   "source": [
    "vars2 = {}\n",
    "a = scipy.io.loadmat(\"ex3data1.mat\",vars2)\n",
    "X = vars2['X']\n",
    "y = vars2['y']\n",
    "np.place(y,y==10,0)\n",
    "m = len(X)\n",
    "X = np.concatenate((np.ones((m,1)),X),axis=1)"
   ]
  },
  {
   "cell_type": "code",
   "execution_count": 4,
   "metadata": {
    "collapsed": false
   },
   "outputs": [],
   "source": [
    "Theta1 = vars['Theta1']\n",
    "Theta2= vars['Theta2']"
   ]
  },
  {
   "cell_type": "code",
   "execution_count": 5,
   "metadata": {
    "collapsed": false
   },
   "outputs": [
    {
     "data": {
      "text/plain": [
       "(10, 26)"
      ]
     },
     "execution_count": 5,
     "metadata": {},
     "output_type": "execute_result"
    }
   ],
   "source": [
    "Theta2.shape"
   ]
  },
  {
   "cell_type": "code",
   "execution_count": 6,
   "metadata": {
    "collapsed": false
   },
   "outputs": [],
   "source": [
    "def predict(dataset,theta1,theta2):\n",
    "    a1 = dataset.T\n",
    "    z2 = np.dot(theta1,a1)\n",
    "    a2 = sigmoid(z2)\n",
    "    print(\"a2.shape\",a2.shape)\n",
    "    print(\"theta2 shape\", theta2.shape)\n",
    "    a2 = np.concatenate((np.ones((1,m)),a2),axis=0)\n",
    "    z3 = np.dot(theta2,a2)\n",
    "    print(z3.shape)\n",
    "    a3 = sigmoid(z3)\n",
    "    prediction = np.argmax(a3,axis=0)\n",
    "    prediction = prediction +1\n",
    "    np.place(prediction,prediction==10,0)\n",
    "\n",
    "    return prediction\n",
    "    "
   ]
  },
  {
   "cell_type": "code",
   "execution_count": 7,
   "metadata": {
    "collapsed": true
   },
   "outputs": [],
   "source": [
    "def sigmoid(x):\n",
    "    return scipy.special.expit(x)"
   ]
  },
  {
   "cell_type": "code",
   "execution_count": 8,
   "metadata": {
    "collapsed": false
   },
   "outputs": [
    {
     "name": "stdout",
     "output_type": "stream",
     "text": [
      "a2.shape (25, 5000)\n",
      "theta2 shape (10, 26)\n",
      "(10, 5000)\n"
     ]
    }
   ],
   "source": [
    "y_hat = predict(X,Theta1,Theta2)\n",
    "y_hat = y_hat[:,np.newaxis]"
   ]
  },
  {
   "cell_type": "code",
   "execution_count": 9,
   "metadata": {
    "collapsed": true
   },
   "outputs": [],
   "source": [
    "difference = y - y_hat"
   ]
  },
  {
   "cell_type": "code",
   "execution_count": 10,
   "metadata": {
    "collapsed": true
   },
   "outputs": [],
   "source": [
    "errors = 0\n",
    "kind_of_error = []"
   ]
  },
  {
   "cell_type": "code",
   "execution_count": 11,
   "metadata": {
    "collapsed": true
   },
   "outputs": [],
   "source": [
    "for i in range(0,len(y)-1):\n",
    "    if difference[i] != 0:\n",
    "        errors +=1\n",
    "        kind_of_error.append((y_hat[i],y[i]))"
   ]
  },
  {
   "cell_type": "code",
   "execution_count": 12,
   "metadata": {
    "collapsed": false
   },
   "outputs": [
    {
     "name": "stdout",
     "output_type": "stream",
     "text": [
      "Correct classified by me:  97.52 %\n",
      "Correct classified by solution: ~97.4%\n"
     ]
    }
   ],
   "source": [
    "print(\"Correct classified by me: \",(len(y)-errors) / len(y)*100,\"%\")\n",
    "print(\"Correct classified by solution: ~97.4%\")"
   ]
  },
  {
   "cell_type": "code",
   "execution_count": 13,
   "metadata": {
    "collapsed": true
   },
   "outputs": [],
   "source": [
    "from IPython.display import Image\n",
    "from IPython.display import display,clear_output\n",
    "import PIL.Image\n",
    "\n",
    "def showarray(a, fmt='jpeg'):\n",
    "    a = a[:,np.newaxis]\n",
    "    a = a.reshape((20,20))\n",
    "    a = a*255\n",
    "    a = np.uint8(np.clip(a, 0, 255))\n",
    "    f = io.BytesIO()\n",
    "    PIL.Image.fromarray(a).save(f, fmt)\n",
    "    display(Image(data=f.getvalue(),width=200,height=200))"
   ]
  },
  {
   "cell_type": "code",
   "execution_count": 2,
   "metadata": {
    "collapsed": true
   },
   "outputs": [],
   "source": [
    "def plotandclassify(dataset,prediction,amount):\n",
    "    random.seed()\n",
    "    for i in range(amount):\n",
    "        r = random.randint(0,dataset.shape[0]-1)\n",
    "        img_array = np.delete(dataset[r],0,0)\n",
    "        showarray(img_array)\n",
    "        print(\"Predicted class label: \",prediction[r])\n",
    "        time.sleep(2)\n",
    "        clear_output(wait=False)\n",
    "        \n",
    "    \n",
    "    "
   ]
  },
  {
   "cell_type": "code",
   "execution_count": 3,
   "metadata": {
    "collapsed": false
   },
   "outputs": [
    {
     "ename": "NameError",
     "evalue": "name 'X' is not defined",
     "output_type": "error",
     "traceback": [
      "\u001b[1;31m---------------------------------------------------------------------------\u001b[0m",
      "\u001b[1;31mNameError\u001b[0m                                 Traceback (most recent call last)",
      "\u001b[1;32m<ipython-input-3-5336c11fcb01>\u001b[0m in \u001b[0;36m<module>\u001b[1;34m()\u001b[0m\n\u001b[1;32m----> 1\u001b[1;33m \u001b[0mplotandclassify\u001b[0m\u001b[1;33m(\u001b[0m\u001b[0mX\u001b[0m\u001b[1;33m,\u001b[0m\u001b[0my_hat\u001b[0m\u001b[1;33m,\u001b[0m\u001b[1;36m10\u001b[0m\u001b[1;33m)\u001b[0m\u001b[1;33m\u001b[0m\u001b[0m\n\u001b[0m",
      "\u001b[1;31mNameError\u001b[0m: name 'X' is not defined"
     ]
    }
   ],
   "source": [
    "plotandclassify(X,y_hat,10)"
   ]
  },
  {
   "cell_type": "code",
   "execution_count": null,
   "metadata": {
    "collapsed": true
   },
   "outputs": [],
   "source": []
  },
  {
   "cell_type": "code",
   "execution_count": null,
   "metadata": {
    "collapsed": true
   },
   "outputs": [],
   "source": []
  },
  {
   "cell_type": "code",
   "execution_count": null,
   "metadata": {
    "collapsed": true
   },
   "outputs": [],
   "source": []
  },
  {
   "cell_type": "code",
   "execution_count": null,
   "metadata": {
    "collapsed": true
   },
   "outputs": [],
   "source": []
  },
  {
   "cell_type": "code",
   "execution_count": null,
   "metadata": {
    "collapsed": true
   },
   "outputs": [],
   "source": []
  }
 ],
 "metadata": {
  "anaconda-cloud": {},
  "kernelspec": {
   "display_name": "Python [Root]",
   "language": "python",
   "name": "Python [Root]"
  },
  "language_info": {
   "codemirror_mode": {
    "name": "ipython",
    "version": 3
   },
   "file_extension": ".py",
   "mimetype": "text/x-python",
   "name": "python",
   "nbconvert_exporter": "python",
   "pygments_lexer": "ipython3",
   "version": "3.5.2"
  }
 },
 "nbformat": 4,
 "nbformat_minor": 0
}
