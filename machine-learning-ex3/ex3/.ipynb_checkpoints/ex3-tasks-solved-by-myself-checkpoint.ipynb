{
 "cells": [
  {
   "cell_type": "code",
   "execution_count": 38,
   "metadata": {
    "collapsed": false
   },
   "outputs": [],
   "source": [
    "import numpy as np\n",
    "import scipy.io\n",
    "#from scipy import io\n",
    "import matplotlib.pyplot as plt\n",
    "%matplotlib inline\n",
    "import random\n",
    "import math\n",
    "import io\n",
    "import scipy.optimize, scipy.special\n",
    "import sklearn.preprocessing\n",
    "import sklearn.linear_model \n",
    "import pandas as pd\n",
    "from scipy.special import expit\n",
    "from scipy.sparse import issparse, csr_matrix\n",
    "from sklearn.linear_model import *"
   ]
  },
  {
   "cell_type": "code",
   "execution_count": 39,
   "metadata": {
    "collapsed": true
   },
   "outputs": [],
   "source": [
    "vars = {}\n",
    "a = scipy.io.loadmat(\"ex3data1.mat\",vars)"
   ]
  },
  {
   "cell_type": "code",
   "execution_count": 40,
   "metadata": {
    "collapsed": true
   },
   "outputs": [],
   "source": [
    "X = vars['X']\n",
    "y = vars['y']\n",
    "np.place(y,y==10,0)\n",
    "m = len(X)\n",
    "theta = np.zeros((X.shape[1]+1,1))\n",
    "X = np.concatenate((np.ones((m,1)),X),axis=1)"
   ]
  },
  {
   "cell_type": "code",
   "execution_count": null,
   "metadata": {
    "collapsed": true
   },
   "outputs": [],
   "source": []
  },
  {
   "cell_type": "code",
   "execution_count": 41,
   "metadata": {
    "collapsed": true
   },
   "outputs": [],
   "source": [
    "def predict(weights,dataset):\n",
    "    if(len(weights.shape)==1):\n",
    "        weights = weights[:,np.newaxis]\n",
    "    #print(\"weights.shape=\",weights.shape)\n",
    "    #print(\"dataset.shape=\",dataset.shape)\n",
    "    prediction = scipy.special.expit(np.dot(dataset,weights))\n",
    "    return prediction"
   ]
  },
  {
   "cell_type": "code",
   "execution_count": 42,
   "metadata": {
    "collapsed": true
   },
   "outputs": [],
   "source": [
    "def cost(weights,dataset,labels,gamma=0.1):\n",
    "    if(len(weights.shape)==1):\n",
    "        weights = weights[:,np.newaxis]\n",
    "    regularizer = (gamma/(2*m))*np.sum(np.delete(labels,0,0))\n",
    "    prediction = predict(weights,dataset)\n",
    "    cost = -1/m * np.sum(np.dot(labels.T,np.log(prediction))+np.dot((1-labels).T,np.log(1-prediction))) +regularizer\n",
    "    #print(cost)\n",
    "    return cost"
   ]
  },
  {
   "cell_type": "code",
   "execution_count": 43,
   "metadata": {
    "collapsed": true
   },
   "outputs": [],
   "source": [
    "def one_hot_encoding(labels,class_nr):\n",
    "    new_labels = np.copy(labels)\n",
    "    np.place(new_labels,new_labels==class_nr,1) \n",
    "    np.place(new_labels,new_labels!=1,0)\n",
    "    return new_labels"
   ]
  },
  {
   "cell_type": "code",
   "execution_count": 44,
   "metadata": {
    "collapsed": true
   },
   "outputs": [],
   "source": [
    "def gradient(weights,dataset,labels,gamma=0.1):\n",
    "    if(len(weights.shape)==1):\n",
    "        weights = weights[:,np.newaxis]\n",
    "    regularizer = (gamma/m) * (np.insert(np.delete(theta,0,0),0,0,0))\n",
    "    prediction = predict(weights,dataset)\n",
    "    grad = 1/m*np.dot(X.T,(prediction-labels)) +regularizer\n",
    "    return np.ndarray.flatten(grad)"
   ]
  },
  {
   "cell_type": "code",
   "execution_count": 46,
   "metadata": {
    "collapsed": false
   },
   "outputs": [],
   "source": [
    "def minimize(weights,dataset,labels):\n",
    "    return scipy.optimize.minimize(cost,weights,method='TNC',jac=gradient,hess=double_gradient,args=(dataset,labels),tol=0.00000001)"
   ]
  },
  {
   "cell_type": "code",
   "execution_count": 47,
   "metadata": {
    "collapsed": true
   },
   "outputs": [],
   "source": [
    "def train(dataset,labels,class_nr):\n",
    "    new_labels = one_hot_encoding(labels,class_nr)\n",
    "    theta = np.zeros((dataset.shape[1],1))\n",
    "    return minimize(weights = theta,dataset=dataset,labels=new_labels)"
   ]
  },
  {
   "cell_type": "code",
   "execution_count": 48,
   "metadata": {
    "collapsed": false
   },
   "outputs": [
    {
     "name": "stdout",
     "output_type": "stream",
     "text": [
      "1\n",
      "2\n",
      "3\n",
      "4\n",
      "5\n",
      "6\n",
      "7\n",
      "8\n",
      "9\n"
     ]
    }
   ],
   "source": [
    "for i in range(0,10):\n",
    "    if i == 0:\n",
    "        all_theta = train(X,y,i)['x']\n",
    "        all_theta = all_theta[:,np.newaxis]\n",
    "    else:\n",
    "        print(i)\n",
    "        curr_theta = train(X,y,i)['x']\n",
    "        curr_theta = curr_theta[:,np.newaxis]\n",
    "        all_theta = np.concatenate((all_theta,curr_theta),axis=1)\n",
    "   "
   ]
  },
  {
   "cell_type": "code",
   "execution_count": 49,
   "metadata": {
    "collapsed": false
   },
   "outputs": [
    {
     "data": {
      "text/plain": [
       "(401, 10)"
      ]
     },
     "execution_count": 49,
     "metadata": {},
     "output_type": "execute_result"
    }
   ],
   "source": [
    "all_theta.shape"
   ]
  },
  {
   "cell_type": "code",
   "execution_count": 50,
   "metadata": {
    "collapsed": false
   },
   "outputs": [
    {
     "data": {
      "text/plain": [
       "(5000, 10)"
      ]
     },
     "execution_count": 50,
     "metadata": {},
     "output_type": "execute_result"
    }
   ],
   "source": [
    "p = predict(all_theta,X)\n",
    "\n",
    "p.shape"
   ]
  },
  {
   "cell_type": "code",
   "execution_count": 51,
   "metadata": {
    "collapsed": true
   },
   "outputs": [],
   "source": [
    "y_hat = np.argmax(p,axis=1)\n",
    "y_hat = y_hat[:,np.newaxis]"
   ]
  },
  {
   "cell_type": "code",
   "execution_count": 52,
   "metadata": {
    "collapsed": true
   },
   "outputs": [],
   "source": [
    "difference = y - y_hat"
   ]
  },
  {
   "cell_type": "code",
   "execution_count": 53,
   "metadata": {
    "collapsed": true
   },
   "outputs": [],
   "source": [
    "errors = 0\n",
    "kind_of_error = []"
   ]
  },
  {
   "cell_type": "code",
   "execution_count": 54,
   "metadata": {
    "collapsed": true
   },
   "outputs": [],
   "source": [
    "for i in range(0,len(y)-1):\n",
    "    if difference[i] != 0:\n",
    "        errors +=1\n",
    "        kind_of_error.append((y_hat[i],y[i]))"
   ]
  },
  {
   "cell_type": "code",
   "execution_count": 55,
   "metadata": {
    "collapsed": false
   },
   "outputs": [
    {
     "data": {
      "text/plain": [
       "0.9518"
      ]
     },
     "execution_count": 55,
     "metadata": {},
     "output_type": "execute_result"
    }
   ],
   "source": [
    "(len(y)-errors) / len(y)"
   ]
  },
  {
   "cell_type": "code",
   "execution_count": null,
   "metadata": {
    "collapsed": true
   },
   "outputs": [],
   "source": []
  }
 ],
 "metadata": {
  "kernelspec": {
   "display_name": "Python 3",
   "language": "python",
   "name": "python3"
  },
  "language_info": {
   "codemirror_mode": {
    "name": "ipython",
    "version": 3
   },
   "file_extension": ".py",
   "mimetype": "text/x-python",
   "name": "python",
   "nbconvert_exporter": "python",
   "pygments_lexer": "ipython3",
   "version": "3.5.1"
  }
 },
 "nbformat": 4,
 "nbformat_minor": 0
}
